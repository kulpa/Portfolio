{
 "metadata": {
  "name": "",
  "signature": "sha256:620ab234eb954022a04f701291f09d069b033f0044cff10938571a01e4b675bb"
 },
 "nbformat": 3,
 "nbformat_minor": 0,
 "worksheets": [
  {
   "cells": [
    {
     "cell_type": "markdown",
     "metadata": {},
     "source": [
      "# \u30c7\u30fc\u30bf\u306e\u671f\u9593\u306b\u3064\u3044\u3066\n",
      "| \u30c7\u30fc\u30bf| \u30d5\u30a1\u30a4\u30eb\u540d    | 1\u884c\u76ee        | \u6700\u7d42\u884c  |\n",
      "|:-----------|------------:|:------------:|:------------:|\n",
      "| BCI| LLOYDS-BCI.csv |  2015-10-31   |2009-03-31|\n",
      "| BPI|LLOYDS-BPI.csv |   2015-10-31   |2009-03-31|\n",
      "| BSI|LLOYDS-BSI.csv | 2015-10-31  |2012-08-31|\n",
      "| Oil| CrudeOilPrice.csv |1986-01-01|2015-09-01|\n",
      "| Iron Ore| ODA-PIORECR_USD.csv |2015-11-30|1980-01-31|\n",
      "| Corn | TFGRAIN-CORN.csv |2015-12-31|2000-12-31|\n",
      "| Coal | ODA-PCOALAU_USD.csv |2015-12-31|1980-12-31|\n",
      "| SSE Composite Index | YAHOO-SS_000001.csv |2016-01-31|1990-12-31|"
     ]
    },
    {
     "cell_type": "code",
     "collapsed": false,
     "input": [
      "import pandas as pd\n",
      "%matplotlib inline\n",
      "\n",
      "# get file data and convert to dataframe\n",
      "def get_data(filename):\n",
      "    Data_LOCATION = (r'../data/%s'%filename)\n",
      "    DF = pd.read_csv(Data_LOCATION) \n",
      "    try: # for BDI data\n",
      "        DF[\"Date\"] = pd.to_datetime(DF[\"Date\"], '%Y-%m-%d')\n",
      "    except: # for oil data\n",
      "        DF[\"DATE\"] = pd.to_datetime(DF[\"DATE\"], '%Y-%m-%d')\n",
      "        # reverse df\n",
      "        DF = DF.iloc[::-1]\n",
      "        DF.index = [range(len(DF))]\n",
      "    return DF    \n",
      "\n",
      "# revise the len(dfname) = len(kind_of_BDI)\n",
      "def adjust_BDI(dfname, kind_of_BDI):\n",
      "    df_target=get_data(dfname)\n",
      "    df_BDI=get_data(kind_of_BDI)\n",
      "    if dfname == \"CrudeOilPrice.csv\":\n",
      "        if kind_of_BDI == \"LLOYDS-BSI.csv\":\n",
      "            df_BDI=df_BDI[2:]\n",
      "            df_BDI.index=[range(len(df_BDI))]\n",
      "            result = pd.concat([df_target[:37],df_BDI],axis=1)\n",
      "        else:\n",
      "            df_BDI=df_BDI[2:]\n",
      "            df_BDI.index=[range(len(df_BDI))]\n",
      "            result = pd.concat([df_target[:78],df_BDI],axis=1)\n",
      "        return result\n",
      "    else:\n",
      "        result = pd.merge(df_target,df_BDI,on=\"Date\")\n",
      "        return result\n",
      "            \n",
      "\n",
      "#get_data(\"TFGRAIN-CORN.csv\")"
     ],
     "language": "python",
     "metadata": {},
     "outputs": [],
     "prompt_number": 1
    },
    {
     "cell_type": "code",
     "collapsed": false,
     "input": [
      "adjust_BDI('CrudeOilPrice.csv','LLOYDS-BCI.csv').to_csv(\"BDI_Oil/Oil_and_BCI.csv\")"
     ],
     "language": "python",
     "metadata": {},
     "outputs": [],
     "prompt_number": 3
    },
    {
     "cell_type": "code",
     "collapsed": false,
     "input": [
      "adjust_BDI('CrudeOilPrice.csv','LLOYDS-BPI.csv').to_csv(\"BDI_Oil/Oil_and_BPI.csv\")"
     ],
     "language": "python",
     "metadata": {},
     "outputs": [],
     "prompt_number": 4
    },
    {
     "cell_type": "code",
     "collapsed": false,
     "input": [
      "adjust_BDI('CrudeOilPrice.csv','LLOYDS-BSI.csv').to_csv(\"BDI_Oil/Oil_and_BSI.csv\")"
     ],
     "language": "python",
     "metadata": {},
     "outputs": [],
     "prompt_number": 5
    },
    {
     "cell_type": "code",
     "collapsed": false,
     "input": [
      "adjust_BDI('CrudeOilPrice.csv','LLOYDS-BSI.csv').corr()"
     ],
     "language": "python",
     "metadata": {},
     "outputs": [
      {
       "html": [
        "<div style=\"max-height:1000px;max-width:1500px;overflow:auto;\">\n",
        "<table border=\"1\" class=\"dataframe\">\n",
        "  <thead>\n",
        "    <tr style=\"text-align: right;\">\n",
        "      <th></th>\n",
        "      <th>VALUE</th>\n",
        "      <th>BSI_Value</th>\n",
        "    </tr>\n",
        "  </thead>\n",
        "  <tbody>\n",
        "    <tr>\n",
        "      <th>VALUE</th>\n",
        "      <td>1.000000</td>\n",
        "      <td>0.395777</td>\n",
        "    </tr>\n",
        "    <tr>\n",
        "      <th>BSI_Value</th>\n",
        "      <td>0.395777</td>\n",
        "      <td>1.000000</td>\n",
        "    </tr>\n",
        "  </tbody>\n",
        "</table>\n",
        "</div>"
       ],
       "metadata": {},
       "output_type": "pyout",
       "prompt_number": 7,
       "text": [
        "              VALUE  BSI_Value\n",
        "VALUE      1.000000   0.395777\n",
        "BSI_Value  0.395777   1.000000"
       ]
      }
     ],
     "prompt_number": 7
    },
    {
     "cell_type": "code",
     "collapsed": false,
     "input": [],
     "language": "python",
     "metadata": {},
     "outputs": []
    }
   ],
   "metadata": {}
  }
 ]
}