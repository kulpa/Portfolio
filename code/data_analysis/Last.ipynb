{
 "metadata": {
  "name": "",
  "signature": "sha256:ff5beddc43f0f7db7c7259f07f9e6a007a57822f0336644161b0130ff2277162"
 },
 "nbformat": 3,
 "nbformat_minor": 0,
 "worksheets": [
  {
   "cells": [
    {
     "cell_type": "code",
     "collapsed": false,
     "input": [
      "import pandas as pd\n",
      "%matplotlib inline\n",
      "\n",
      "def get_BDI_data(BDI):\n",
      "    Data_LOCATION = (r'../data/LLOYDS-%s.csv'%BDI)\n",
      "    DF = pd.read_csv(Data_LOCATION) \n",
      "    DF[\"Date\"] = pd.to_datetime(DF[\"Date\"], '%Y-%m-%d')\n",
      "    \n",
      "    # reverse df\n",
      "    DF = DF.iloc[::-1]\n",
      "    DF.index = [range(len(DF))]\n",
      "    return DF\n",
      "\n",
      "def get_Oil_data():\n",
      "    Data_LOCATION = r'../data/CrudeOilPrice.csv'\n",
      "    DF = pd.read_csv(Data_LOCATION) \n",
      "    DF[\"DATE\"] = pd.to_datetime(DF[\"DATE\"], '%Y-%m-%d')\n",
      "    return DF\n",
      "\n",
      "Oil = get_Oil_data()"
     ],
     "language": "python",
     "metadata": {},
     "outputs": [],
     "prompt_number": 56
    },
    {
     "cell_type": "code",
     "collapsed": false,
     "input": [
      "def arrange_oil_to_BCPI(BCPI):\n",
      "    DO = Oil[279:]\n",
      "    DF_BCPI = get_BDI_data(BCPI) \n",
      "    DO.index = [range(len(DO))]\n",
      "    Oil_and_BCPI = pd.concat([DO[\"VALUE\"], DF_BCPI[:-2][(\"%s_Value\"%BCPI)]], axis=1)\n",
      "    return Oil_and_BCPI\n",
      "\n",
      "def arrange_oil_to_BSI():\n",
      "    DO = Oil[320:]\n",
      "    DF_BSI = get_BDI_data(\"BSI\") \n",
      "    DO.index = [range(len(DO))]\n",
      "    Oil_and_BSI = pd.concat([DO[\"VALUE\"], DF_BSI[:-2][\"BSI_Value\"]], axis=1)\n",
      "    return Oil_and_BSI\n",
      "\n",
      "arrange_oil_to_BCPI(\"BCI\").corr()\n",
      "#arrange_oil_to_BCPI(\"BPI\").corr()\n",
      "#arrange_oil_to_BSI().corr()"
     ],
     "language": "python",
     "metadata": {},
     "outputs": [
      {
       "html": [
        "<div style=\"max-height:1000px;max-width:1500px;overflow:auto;\">\n",
        "<table border=\"1\" class=\"dataframe\">\n",
        "  <thead>\n",
        "    <tr style=\"text-align: right;\">\n",
        "      <th></th>\n",
        "      <th>VALUE</th>\n",
        "      <th>BCI_Value</th>\n",
        "    </tr>\n",
        "  </thead>\n",
        "  <tbody>\n",
        "    <tr>\n",
        "      <th>VALUE</th>\n",
        "      <td>1.000000</td>\n",
        "      <td>-0.071108</td>\n",
        "    </tr>\n",
        "    <tr>\n",
        "      <th>BCI_Value</th>\n",
        "      <td>-0.071108</td>\n",
        "      <td>1.000000</td>\n",
        "    </tr>\n",
        "  </tbody>\n",
        "</table>\n",
        "</div>"
       ],
       "metadata": {},
       "output_type": "pyout",
       "prompt_number": 59,
       "text": [
        "              VALUE  BCI_Value\n",
        "VALUE      1.000000  -0.071108\n",
        "BCI_Value -0.071108   1.000000"
       ]
      }
     ],
     "prompt_number": 59
    },
    {
     "cell_type": "code",
     "collapsed": false,
     "input": [
      "def arrange_BCPI_to_BSI(BCPI):\n",
      "    DF_BCPI = get_BDI_data(BCPI)[41:] \n",
      "    DF_BCPI.index = [range(len(DF_BCPI))]\n",
      "    BSI = get_BDI_data(\"BSI\")\n",
      "    BSI_and_BCPI = pd.concat([BSI[\"BSI_Value\"], DF_BCPI[(\"%s_Value\"%BCPI)]], axis=1)\n",
      "    return BSI_and_BCPI\n",
      "\n",
      "arrange_BCPI_to_BSI(\"BPI\").corr()"
     ],
     "language": "python",
     "metadata": {},
     "outputs": [
      {
       "html": [
        "<div style=\"max-height:1000px;max-width:1500px;overflow:auto;\">\n",
        "<table border=\"1\" class=\"dataframe\">\n",
        "  <thead>\n",
        "    <tr style=\"text-align: right;\">\n",
        "      <th></th>\n",
        "      <th>BSI_Value</th>\n",
        "      <th>BPI_Value</th>\n",
        "    </tr>\n",
        "  </thead>\n",
        "  <tbody>\n",
        "    <tr>\n",
        "      <th>BSI_Value</th>\n",
        "      <td>1.000000</td>\n",
        "      <td>0.845231</td>\n",
        "    </tr>\n",
        "    <tr>\n",
        "      <th>BPI_Value</th>\n",
        "      <td>0.845231</td>\n",
        "      <td>1.000000</td>\n",
        "    </tr>\n",
        "  </tbody>\n",
        "</table>\n",
        "</div>"
       ],
       "metadata": {},
       "output_type": "pyout",
       "prompt_number": 69,
       "text": [
        "           BSI_Value  BPI_Value\n",
        "BSI_Value   1.000000   0.845231\n",
        "BPI_Value   0.845231   1.000000"
       ]
      }
     ],
     "prompt_number": 69
    },
    {
     "cell_type": "code",
     "collapsed": false,
     "input": [],
     "language": "python",
     "metadata": {},
     "outputs": []
    }
   ],
   "metadata": {}
  }
 ]
}